{
  "nbformat": 4,
  "nbformat_minor": 0,
  "metadata": {
    "colab": {
      "provenance": [],
      "authorship_tag": "ABX9TyM6CkrUj2qsyF5UQTkfbAUc",
      "include_colab_link": true
    },
    "kernelspec": {
      "name": "python3",
      "display_name": "Python 3"
    },
    "language_info": {
      "name": "python"
    }
  },
  "cells": [
    {
      "cell_type": "markdown",
      "metadata": {
        "id": "view-in-github",
        "colab_type": "text"
      },
      "source": [
        "<a href=\"https://colab.research.google.com/github/angelmorales2621-gif/Investigaci-n-de-operaciones-/blob/main/Grafos.ipynb\" target=\"_parent\"><img src=\"https://colab.research.google.com/assets/colab-badge.svg\" alt=\"Open In Colab\"/></a>"
      ]
    },
    {
      "cell_type": "code",
      "execution_count": 22,
      "metadata": {
        "colab": {
          "base_uri": "https://localhost:8080/",
          "height": 247
        },
        "id": "L-l5Qx83aJZO",
        "outputId": "9988aa98-ef17-4710-dd48-1f32fc26b8ff"
      },
      "outputs": [
        {
          "output_type": "display_data",
          "data": {
            "text/plain": [
              "<Figure size 640x480 with 1 Axes>"
            ],
            "image/png": "[encoded data removed]"
          },
          "metadata": {}
        }
      ],
      "source": [
        "import networkx as nx #libreria que permite crear grafos\n",
        "G= nx.DiGraph() #grafica dirigida\n",
        "G.add_edge(\"A\",\"B\",capacity=1)\n",
        "G.add_edge(\"B\",\"D\",capacity=1)\n",
        "G.add_edge(\"A\",\"C\",capacity=1)\n",
        "G.add_edge(\"B\",\"C\",capacity=1)\n",
        "G.add_edge(\"C\",\"D\",capacity=1) #graficar los nodos con flujo\n",
        "nx.draw_networkx(G)"
      ]
    },
    {
      "cell_type": "code",
      "source": [
        "G #tipo de dato"
      ],
      "metadata": {
        "colab": {
          "base_uri": "https://localhost:8080/"
        },
        "id": "_jKZUGiydcrE",
        "outputId": "3987544f-ac7d-4fda-cb77-c96fab49ea6e"
      },
      "execution_count": 23,
      "outputs": [
        {
          "output_type": "execute_result",
          "data": {
            "text/plain": [
              "<networkx.classes.digraph.DiGraph at 0x79b8159b43b0>"
            ]
          },
          "metadata": {},
          "execution_count": 23
        }
      ]
    },
    {
      "cell_type": "code",
      "source": [
        "nx.number_of_nodes(G) #numero de nodos"
      ],
      "metadata": {
        "colab": {
          "base_uri": "https://localhost:8080/"
        },
        "id": "Funa5Wqyd6VU",
        "outputId": "4b4a4c27-4d02-4c92-e32a-038232526812"
      },
      "execution_count": 24,
      "outputs": [
        {
          "output_type": "execute_result",
          "data": {
            "text/plain": [
              "4"
            ]
          },
          "metadata": {},
          "execution_count": 24
        }
      ]
    },
    {
      "cell_type": "code",
      "source": [
        "nx.number_of_edges(G) #numero de aristas"
      ],
      "metadata": {
        "colab": {
          "base_uri": "https://localhost:8080/"
        },
        "id": "BJ6nCutLg3fR",
        "outputId": "59899d1e-077e-4447-ac1c-54bde340bedd"
      },
      "execution_count": 25,
      "outputs": [
        {
          "output_type": "execute_result",
          "data": {
            "text/plain": [
              "5"
            ]
          },
          "metadata": {},
          "execution_count": 25
        }
      ]
    },
    {
      "cell_type": "code",
      "source": [
        "list(G.nodes) #nodos en forma de lista"
      ],
      "metadata": {
        "colab": {
          "base_uri": "https://localhost:8080/"
        },
        "id": "GdLth-2Nih-A",
        "outputId": "09546f47-d8e3-4ce6-fe64-b8e1c6873831"
      },
      "execution_count": 26,
      "outputs": [
        {
          "output_type": "execute_result",
          "data": {
            "text/plain": [
              "['A', 'B', 'D', 'C']"
            ]
          },
          "metadata": {},
          "execution_count": 26
        }
      ]
    },
    {
      "cell_type": "code",
      "source": [
        "list(G.edges) #direccion del flujo"
      ],
      "metadata": {
        "colab": {
          "base_uri": "https://localhost:8080/"
        },
        "id": "E8cBw3e-il2D",
        "outputId": "c8c97bb3-915b-434a-e7ab-b67335ef2e1b"
      },
      "execution_count": 27,
      "outputs": [
        {
          "output_type": "execute_result",
          "data": {
            "text/plain": [
              "[('A', 'B'), ('A', 'C'), ('B', 'D'), ('B', 'C'), ('C', 'D')]"
            ]
          },
          "metadata": {},
          "execution_count": 27
        }
      ]
    },
    {
      "cell_type": "code",
      "source": [
        "G.remove_node(\"A\" )\n",
        "G.remove_nodes_from(\"spam\")\n",
        "list(G.nodes) #eliminar un nodo"
      ],
      "metadata": {
        "colab": {
          "base_uri": "https://localhost:8080/"
        },
        "id": "vUNShn01i0BW",
        "outputId": "a4190592-545e-48fe-f41d-a2cc6de4f165"
      },
      "execution_count": 32,
      "outputs": [
        {
          "output_type": "execute_result",
          "data": {
            "text/plain": [
              "['B', 'D', 'C']"
            ]
          },
          "metadata": {},
          "execution_count": 32
        }
      ]
    },
    {
      "cell_type": "code",
      "source": [
        "list(G.neighbors(\"B\" )) #vecinos de algún nodo"
      ],
      "metadata": {
        "colab": {
          "base_uri": "https://localhost:8080/"
        },
        "id": "YUJ7eZvujXEc",
        "outputId": "9d15f2f1-3866-416a-fce4-e40fad5c19fe"
      },
      "execution_count": 35,
      "outputs": [
        {
          "output_type": "execute_result",
          "data": {
            "text/plain": [
              "['D', 'C']"
            ]
          },
          "metadata": {},
          "execution_count": 35
        }
      ]
    }
  ]
}